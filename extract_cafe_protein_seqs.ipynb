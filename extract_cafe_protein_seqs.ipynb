{
 "cells": [
  {
   "cell_type": "code",
   "execution_count": 1,
   "metadata": {},
   "outputs": [],
   "source": [
    "### 8.27.2020 extract protein sequences that correspond to rapidly expanded orthogroups predicted\n",
    "### by CAFE\n",
    "\n",
    "import os\n",
    "\n",
    "os.chdir(\"/Users/lwrogers/Desktop/Calonectria Projects/Gene Families/Protein_sequences\")"
   ]
  },
  {
   "cell_type": "code",
   "execution_count": 19,
   "metadata": {},
   "outputs": [
    {
     "name": "stdout",
     "output_type": "stream",
     "text": [
      "Found 2 unique identifiers in OG_prot_seq_tru.txt\n",
      "Saved 2 records from Thelonectria_rubi_CBS113-12.proteins.fa to OG_Tru_prot_seq.fasta\n"
     ]
    }
   ],
   "source": [
    "from Bio import SeqIO\n",
    "\n",
    "input_file = \"Thelonectria_rubi_CBS113-12.proteins.fa\"\n",
    "id_file = \"OG_prot_seq_tru.txt\"\n",
    "output_file = \"OG_Tru_prot_seq.fasta\"\n",
    "\n",
    "with open(id_file) as id_handle:\n",
    "    wanted = set(line.rstrip(\"\\n\").split(None, 1)[0] for line in id_handle)\n",
    "print(\"Found %i unique identifiers in %s\" % (len(wanted), id_file))\n",
    "\n",
    "records = (r for r in SeqIO.parse(input_file, \"fasta\") if r.id in wanted)\n",
    "count = SeqIO.write(records, output_file, \"fasta\")\n",
    "print(\"Saved %i records from %s to %s\" % (count, input_file, output_file))\n",
    "if count < len(wanted):\n",
    "    print(\"Warning %i IDs not found in %s\" % (len(wanted) - count, input_file))"
   ]
  },
  {
   "cell_type": "code",
   "execution_count": null,
   "metadata": {},
   "outputs": [],
   "source": []
  }
 ],
 "metadata": {
  "kernelspec": {
   "display_name": "Python 3 (ipykernel)",
   "language": "python",
   "name": "python3"
  },
  "language_info": {
   "codemirror_mode": {
    "name": "ipython",
    "version": 3
   },
   "file_extension": ".py",
   "mimetype": "text/x-python",
   "name": "python",
   "nbconvert_exporter": "python",
   "pygments_lexer": "ipython3",
   "version": "3.10.0"
  }
 },
 "nbformat": 4,
 "nbformat_minor": 2
}
